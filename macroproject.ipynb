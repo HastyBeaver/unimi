{
 "cells": [
  {
   "cell_type": "code",
   "execution_count": 11,
   "metadata": {},
   "outputs": [],
   "source": [
    "import pandas as pd\n",
    "import numpy as np\n",
    "import matplotlib.pyplot as plt\n",
    "from scipy.stats import pearsonr\n",
    "from statsmodels.tsa.stattools import adfuller\n",
    "from statsmodels.graphics.tsaplots import plot_pacf\n",
    "from statsmodels.tsa.stattools import grangercausalitytests\n",
    "from statsmodels.stats.stattools import durbin_watson\n",
    "from statsmodels.tsa.api import VAR\n",
    "from scipy.stats import spearmanr\n",
    "from sklearn.linear_model import LinearRegression\n",
    "import statsmodels.api as sm\n",
    "import statsmodels.formula.api as smf\n",
    "from statsmodels.tsa.statespace.varmax import VARMAX\n"
   ]
  },
  {
   "cell_type": "markdown",
   "metadata": {},
   "source": [
    "Data Cleaning"
   ]
  },
  {
   "cell_type": "code",
   "execution_count": 12,
   "metadata": {},
   "outputs": [
    {
     "data": {
      "text/html": [
       "<div>\n",
       "<style scoped>\n",
       "    .dataframe tbody tr th:only-of-type {\n",
       "        vertical-align: middle;\n",
       "    }\n",
       "\n",
       "    .dataframe tbody tr th {\n",
       "        vertical-align: top;\n",
       "    }\n",
       "\n",
       "    .dataframe thead th {\n",
       "        text-align: right;\n",
       "    }\n",
       "</style>\n",
       "<table border=\"1\" class=\"dataframe\">\n",
       "  <thead>\n",
       "    <tr style=\"text-align: right;\">\n",
       "      <th></th>\n",
       "      <th>wgt</th>\n",
       "      <th>ur</th>\n",
       "    </tr>\n",
       "    <tr>\n",
       "      <th>date</th>\n",
       "      <th></th>\n",
       "      <th></th>\n",
       "    </tr>\n",
       "  </thead>\n",
       "  <tbody>\n",
       "    <tr>\n",
       "      <th>01/1998</th>\n",
       "      <td>4.9</td>\n",
       "      <td>4.6</td>\n",
       "    </tr>\n",
       "    <tr>\n",
       "      <th>02/1998</th>\n",
       "      <td>4.8</td>\n",
       "      <td>4.6</td>\n",
       "    </tr>\n",
       "    <tr>\n",
       "      <th>03/1998</th>\n",
       "      <td>4.6</td>\n",
       "      <td>4.7</td>\n",
       "    </tr>\n",
       "    <tr>\n",
       "      <th>04/1998</th>\n",
       "      <td>4.9</td>\n",
       "      <td>4.3</td>\n",
       "    </tr>\n",
       "    <tr>\n",
       "      <th>05/1998</th>\n",
       "      <td>5.2</td>\n",
       "      <td>4.4</td>\n",
       "    </tr>\n",
       "    <tr>\n",
       "      <th>...</th>\n",
       "      <td>...</td>\n",
       "      <td>...</td>\n",
       "    </tr>\n",
       "    <tr>\n",
       "      <th>08/2021</th>\n",
       "      <td>3.9</td>\n",
       "      <td>5.2</td>\n",
       "    </tr>\n",
       "    <tr>\n",
       "      <th>09/2021</th>\n",
       "      <td>4.2</td>\n",
       "      <td>4.7</td>\n",
       "    </tr>\n",
       "    <tr>\n",
       "      <th>10/2021</th>\n",
       "      <td>4.1</td>\n",
       "      <td>4.6</td>\n",
       "    </tr>\n",
       "    <tr>\n",
       "      <th>11/2021</th>\n",
       "      <td>4.3</td>\n",
       "      <td>4.2</td>\n",
       "    </tr>\n",
       "    <tr>\n",
       "      <th>12/2021</th>\n",
       "      <td>4.5</td>\n",
       "      <td>3.9</td>\n",
       "    </tr>\n",
       "  </tbody>\n",
       "</table>\n",
       "<p>288 rows × 2 columns</p>\n",
       "</div>"
      ],
      "text/plain": [
       "         wgt   ur\n",
       "date             \n",
       "01/1998  4.9  4.6\n",
       "02/1998  4.8  4.6\n",
       "03/1998  4.6  4.7\n",
       "04/1998  4.9  4.3\n",
       "05/1998  5.2  4.4\n",
       "...      ...  ...\n",
       "08/2021  3.9  5.2\n",
       "09/2021  4.2  4.7\n",
       "10/2021  4.1  4.6\n",
       "11/2021  4.3  4.2\n",
       "12/2021  4.5  3.9\n",
       "\n",
       "[288 rows x 2 columns]"
      ]
     },
     "execution_count": 12,
     "metadata": {},
     "output_type": "execute_result"
    }
   ],
   "source": [
    "df = pd.read_excel(\"dataframe.xlsx\")\n",
    "df[\"date\"] = pd.to_datetime(df[\"date\"], format=\"%Y/%m/%d\")\n",
    "df[\"date\"] = df[\"date\"].dt.strftime(\"%m/%Y\")\n",
    "df = df.set_index(\"date\", drop = True)\n",
    "df = df.dropna()\n",
    "df"
   ]
  },
  {
   "cell_type": "code",
   "execution_count": 13,
   "metadata": {},
   "outputs": [
    {
     "data": {
      "image/png": "[encoded data removed]",
      "text/plain": [
       "<Figure size 432x288 with 1 Axes>"
      ]
     },
     "metadata": {
      "needs_background": "light"
     },
     "output_type": "display_data"
    }
   ],
   "source": [
    "df[\"ur\"].plot()\n",
    "plt.show()"
   ]
  },
  {
   "cell_type": "code",
   "execution_count": 14,
   "metadata": {},
   "outputs": [
    {
     "data": {
      "image/png": "[encoded data removed]",
      "text/plain": [
       "<Figure size 432x288 with 1 Axes>"
      ]
     },
     "metadata": {
      "needs_background": "light"
     },
     "output_type": "display_data"
    }
   ],
   "source": [
    "df[\"wgt\"].plot()\n",
    "plt.show()"
   ]
  },
  {
   "cell_type": "markdown",
   "metadata": {},
   "source": [
    "Testing for Unit Root through DF Test"
   ]
  },
  {
   "cell_type": "code",
   "execution_count": 15,
   "metadata": {},
   "outputs": [
    {
     "data": {
      "text/plain": [
       "(-1.807323547973009,\n",
       " 0.37683186501802957,\n",
       " 9,\n",
       " 278,\n",
       " {'1%': -3.4540935579190495,\n",
       "  '5%': -2.8719934111688965,\n",
       "  '10%': -2.5723401594120388},\n",
       " -309.92839592678433)"
      ]
     },
     "execution_count": 15,
     "metadata": {},
     "output_type": "execute_result"
    }
   ],
   "source": [
    "adf_wgt = adfuller(df[\"wgt\"])\n",
    "adf_wgt\n",
    "\n",
    "# Unit Root"
   ]
  },
  {
   "cell_type": "code",
   "execution_count": 16,
   "metadata": {},
   "outputs": [
    {
     "data": {
      "text/plain": [
       "(-4.090361584328819,\n",
       " 0.0010046701836451928,\n",
       " 8,\n",
       " 278,\n",
       " {'1%': -3.4540935579190495,\n",
       "  '5%': -2.8719934111688965,\n",
       "  '10%': -2.5723401594120388},\n",
       " -307.9207778624758)"
      ]
     },
     "execution_count": 16,
     "metadata": {},
     "output_type": "execute_result"
    }
   ],
   "source": [
    "wgt_firstdiff = df[\"wgt\"].diff().dropna()\n",
    "adf_wgt_firstdiff = adfuller(wgt_firstdiff)\n",
    "adf_wgt_firstdiff\n",
    "\n",
    "#first differencing the unit root series\n",
    "#STATIONARY"
   ]
  },
  {
   "cell_type": "code",
   "execution_count": 17,
   "metadata": {},
   "outputs": [
    {
     "data": {
      "text/plain": [
       "(-2.9264267012175584,\n",
       " 0.04236010768029437,\n",
       " 0,\n",
       " 287,\n",
       " {'1%': -3.453342167806272,\n",
       "  '5%': -2.871663828287282,\n",
       "  '10%': -2.572164381381345},\n",
       " 557.860658697995)"
      ]
     },
     "execution_count": 17,
     "metadata": {},
     "output_type": "execute_result"
    }
   ],
   "source": [
    "adf_ur = adfuller(df[\"ur\"])\n",
    "adf_ur\n",
    "\n",
    "#STATIONARY"
   ]
  },
  {
   "cell_type": "code",
   "execution_count": 18,
   "metadata": {},
   "outputs": [
    {
     "data": {
      "image/png": "[encoded data removed]",
      "text/plain": [
       "<Figure size 640x480 with 2 Axes>"
      ]
     },
     "metadata": {
      "needs_background": "light"
     },
     "output_type": "display_data"
    }
   ],
   "source": [
    "from matplotlib.pyplot import figure\n",
    "\n",
    "figure(figsize=(8, 6), dpi=80)\n",
    "ax1 = df[\"wgt\"].plot(color='red', label='Wage Growth')\n",
    "ax2 = df[\"ur\"].plot(color='green', secondary_y=True, label='Unemployment Rate')\n",
    "\n",
    "h1, l1 = ax1.get_legend_handles_labels()\n",
    "h2, l2 = ax2.get_legend_handles_labels()\n",
    "\n",
    "plt.legend(h1+h2, l1+l2, loc=2)\n",
    "plt.show()"
   ]
  },
  {
   "cell_type": "markdown",
   "metadata": {},
   "source": [
    "For Loop"
   ]
  },
  {
   "cell_type": "code",
   "execution_count": 19,
   "metadata": {},
   "outputs": [],
   "source": [
    "ur = df[\"ur\"][1:]"
   ]
  },
  {
   "cell_type": "code",
   "execution_count": 20,
   "metadata": {},
   "outputs": [
    {
     "name": "stdout",
     "output_type": "stream",
     "text": [
      "LAG: 1\n",
      "(-0.1363892870728834, 0.02104130300287563)\n",
      "------\n",
      "LAG: 2\n",
      "(-0.1463451765446671, 0.013396089870339167)\n",
      "------\n",
      "LAG: 3\n",
      "(-0.1387344571263927, 0.019335159522999756)\n",
      "------\n",
      "LAG: 4\n",
      "(-0.13340965757801584, 0.02480625790433632)\n",
      "------\n",
      "LAG: 5\n",
      "(-0.108239158050763, 0.06953824386128733)\n",
      "------\n",
      "LAG: 6\n",
      "(-0.12092350750025287, 0.0428211714031815)\n",
      "------\n",
      "LAG: 7\n",
      "(-0.13127095985321546, 0.02807267210154488)\n",
      "------\n",
      "LAG: 8\n",
      "(-0.16130045911882995, 0.0069369819282885225)\n",
      "------\n",
      "LAG: 9\n",
      "(-0.16050555207392156, 0.007329041385670261)\n",
      "------\n",
      "LAG: 10\n",
      "(-0.12600522413908638, 0.036080175830842616)\n",
      "------\n",
      "LAG: 11\n",
      "(-0.11242423058701018, 0.06215726732802838)\n",
      "------\n",
      "LAG: 12\n",
      "(-0.09780320843475242, 0.1055813250811139)\n",
      "------\n"
     ]
    }
   ],
   "source": [
    "for lag in range(1,13):\n",
    "    ur_series = ur.iloc[lag:]\n",
    "    lagged_wgt_firstdiff = wgt_firstdiff.iloc[:-lag]\n",
    "    print('LAG: %s'%lag)\n",
    "    print(pearsonr(ur_series, lagged_wgt_firstdiff))\n",
    "   \n",
    "    print(\"------\")"
   ]
  },
  {
   "cell_type": "code",
   "execution_count": 21,
   "metadata": {},
   "outputs": [
    {
     "data": {
      "text/html": [
       "<div>\n",
       "<style scoped>\n",
       "    .dataframe tbody tr th:only-of-type {\n",
       "        vertical-align: middle;\n",
       "    }\n",
       "\n",
       "    .dataframe tbody tr th {\n",
       "        vertical-align: top;\n",
       "    }\n",
       "\n",
       "    .dataframe thead th {\n",
       "        text-align: right;\n",
       "    }\n",
       "</style>\n",
       "<table border=\"1\" class=\"dataframe\">\n",
       "  <thead>\n",
       "    <tr style=\"text-align: right;\">\n",
       "      <th></th>\n",
       "      <th>wgt_firstdiff</th>\n",
       "      <th>ur</th>\n",
       "    </tr>\n",
       "    <tr>\n",
       "      <th>date</th>\n",
       "      <th></th>\n",
       "      <th></th>\n",
       "    </tr>\n",
       "  </thead>\n",
       "  <tbody>\n",
       "    <tr>\n",
       "      <th>02/1998</th>\n",
       "      <td>-0.1</td>\n",
       "      <td>4.6</td>\n",
       "    </tr>\n",
       "    <tr>\n",
       "      <th>03/1998</th>\n",
       "      <td>-0.2</td>\n",
       "      <td>4.7</td>\n",
       "    </tr>\n",
       "    <tr>\n",
       "      <th>04/1998</th>\n",
       "      <td>0.3</td>\n",
       "      <td>4.3</td>\n",
       "    </tr>\n",
       "    <tr>\n",
       "      <th>05/1998</th>\n",
       "      <td>0.3</td>\n",
       "      <td>4.4</td>\n",
       "    </tr>\n",
       "    <tr>\n",
       "      <th>06/1998</th>\n",
       "      <td>0.2</td>\n",
       "      <td>4.5</td>\n",
       "    </tr>\n",
       "    <tr>\n",
       "      <th>...</th>\n",
       "      <td>...</td>\n",
       "      <td>...</td>\n",
       "    </tr>\n",
       "    <tr>\n",
       "      <th>08/2021</th>\n",
       "      <td>0.2</td>\n",
       "      <td>5.2</td>\n",
       "    </tr>\n",
       "    <tr>\n",
       "      <th>09/2021</th>\n",
       "      <td>0.3</td>\n",
       "      <td>4.7</td>\n",
       "    </tr>\n",
       "    <tr>\n",
       "      <th>10/2021</th>\n",
       "      <td>-0.1</td>\n",
       "      <td>4.6</td>\n",
       "    </tr>\n",
       "    <tr>\n",
       "      <th>11/2021</th>\n",
       "      <td>0.2</td>\n",
       "      <td>4.2</td>\n",
       "    </tr>\n",
       "    <tr>\n",
       "      <th>12/2021</th>\n",
       "      <td>0.2</td>\n",
       "      <td>3.9</td>\n",
       "    </tr>\n",
       "  </tbody>\n",
       "</table>\n",
       "<p>287 rows × 2 columns</p>\n",
       "</div>"
      ],
      "text/plain": [
       "         wgt_firstdiff   ur\n",
       "date                       \n",
       "02/1998           -0.1  4.6\n",
       "03/1998           -0.2  4.7\n",
       "04/1998            0.3  4.3\n",
       "05/1998            0.3  4.4\n",
       "06/1998            0.2  4.5\n",
       "...                ...  ...\n",
       "08/2021            0.2  5.2\n",
       "09/2021            0.3  4.7\n",
       "10/2021           -0.1  4.6\n",
       "11/2021            0.2  4.2\n",
       "12/2021            0.2  3.9\n",
       "\n",
       "[287 rows x 2 columns]"
      ]
     },
     "execution_count": 21,
     "metadata": {},
     "output_type": "execute_result"
    }
   ],
   "source": [
    "d = {\"wgt_firstdiff\":wgt_firstdiff, \"ur\":ur}\n",
    "ur_wgt_firstdiff_df = pd.DataFrame(data=d)\n",
    "ur_wgt_firstdiff_df"
   ]
  },
  {
   "cell_type": "markdown",
   "metadata": {},
   "source": [
    "Granger Causality Test"
   ]
  },
  {
   "cell_type": "code",
   "execution_count": 22,
   "metadata": {},
   "outputs": [
    {
     "name": "stdout",
     "output_type": "stream",
     "text": [
      "\n",
      "Granger Causality\n",
      "number of lags (no zero) 1\n",
      "ssr based F test:         F=7.3947  , p=0.0069  , df_denom=284, df_num=1\n",
      "ssr based chi2 test:   chi2=7.4728  , p=0.0063  , df=1\n",
      "likelihood ratio test: chi2=7.3772  , p=0.0066  , df=1\n",
      "parameter F test:         F=7.3947  , p=0.0069  , df_denom=284, df_num=1\n",
      "\n",
      "Granger Causality\n",
      "number of lags (no zero) 2\n",
      "ssr based F test:         F=4.0924  , p=0.0177  , df_denom=281, df_num=2\n",
      "ssr based chi2 test:   chi2=8.3305  , p=0.0155  , df=2\n",
      "likelihood ratio test: chi2=8.2115  , p=0.0165  , df=2\n",
      "parameter F test:         F=4.0924  , p=0.0177  , df_denom=281, df_num=2\n",
      "\n",
      "Granger Causality\n",
      "number of lags (no zero) 3\n",
      "ssr based F test:         F=5.2433  , p=0.0016  , df_denom=278, df_num=3\n",
      "ssr based chi2 test:   chi2=16.1259 , p=0.0011  , df=3\n",
      "likelihood ratio test: chi2=15.6862 , p=0.0013  , df=3\n",
      "parameter F test:         F=5.2433  , p=0.0016  , df_denom=278, df_num=3\n",
      "\n",
      "Granger Causality\n",
      "number of lags (no zero) 4\n",
      "ssr based F test:         F=5.0497  , p=0.0006  , df_denom=275, df_num=4\n",
      "ssr based chi2 test:   chi2=20.8597 , p=0.0003  , df=4\n",
      "likelihood ratio test: chi2=20.1292 , p=0.0005  , df=4\n",
      "parameter F test:         F=5.0497  , p=0.0006  , df_denom=275, df_num=4\n",
      "\n",
      "Granger Causality\n",
      "number of lags (no zero) 5\n",
      "ssr based F test:         F=4.2336  , p=0.0010  , df_denom=272, df_num=5\n",
      "ssr based chi2 test:   chi2=22.0238 , p=0.0005  , df=5\n",
      "likelihood ratio test: chi2=21.2089 , p=0.0007  , df=5\n",
      "parameter F test:         F=4.2336  , p=0.0010  , df_denom=272, df_num=5\n",
      "\n",
      "Granger Causality\n",
      "number of lags (no zero) 6\n",
      "ssr based F test:         F=3.3677  , p=0.0032  , df_denom=269, df_num=6\n",
      "ssr based chi2 test:   chi2=21.1826 , p=0.0017  , df=6\n",
      "likelihood ratio test: chi2=20.4247 , p=0.0023  , df=6\n",
      "parameter F test:         F=3.3677  , p=0.0032  , df_denom=269, df_num=6\n",
      "\n",
      "Granger Causality\n",
      "number of lags (no zero) 7\n",
      "ssr based F test:         F=3.1514  , p=0.0032  , df_denom=266, df_num=7\n",
      "ssr based chi2 test:   chi2=23.3039 , p=0.0015  , df=7\n",
      "likelihood ratio test: chi2=22.3879 , p=0.0022  , df=7\n",
      "parameter F test:         F=3.1514  , p=0.0032  , df_denom=266, df_num=7\n",
      "\n",
      "Granger Causality\n",
      "number of lags (no zero) 8\n",
      "ssr based F test:         F=2.6956  , p=0.0073  , df_denom=263, df_num=8\n",
      "ssr based chi2 test:   chi2=22.9583 , p=0.0034  , df=8\n",
      "likelihood ratio test: chi2=22.0656 , p=0.0048  , df=8\n",
      "parameter F test:         F=2.6956  , p=0.0073  , df_denom=263, df_num=8\n",
      "\n",
      "Granger Causality\n",
      "number of lags (no zero) 9\n",
      "ssr based F test:         F=2.7410  , p=0.0045  , df_denom=260, df_num=9\n",
      "ssr based chi2 test:   chi2=26.4716 , p=0.0017  , df=9\n",
      "likelihood ratio test: chi2=25.2899 , p=0.0027  , df=9\n",
      "parameter F test:         F=2.7410  , p=0.0045  , df_denom=260, df_num=9\n",
      "\n",
      "Granger Causality\n",
      "number of lags (no zero) 10\n",
      "ssr based F test:         F=2.4530  , p=0.0082  , df_denom=257, df_num=10\n",
      "ssr based chi2 test:   chi2=26.5342 , p=0.0031  , df=10\n",
      "likelihood ratio test: chi2=25.3431 , p=0.0047  , df=10\n",
      "parameter F test:         F=2.4530  , p=0.0082  , df_denom=257, df_num=10\n",
      "\n",
      "Granger Causality\n",
      "number of lags (no zero) 11\n",
      "ssr based F test:         F=2.2455  , p=0.0128  , df_denom=254, df_num=11\n",
      "ssr based chi2 test:   chi2=26.9373 , p=0.0047  , df=11\n",
      "likelihood ratio test: chi2=25.7067 , p=0.0072  , df=11\n",
      "parameter F test:         F=2.2455  , p=0.0128  , df_denom=254, df_num=11\n",
      "\n",
      "Granger Causality\n",
      "number of lags (no zero) 12\n",
      "ssr based F test:         F=2.3794  , p=0.0064  , df_denom=251, df_num=12\n",
      "ssr based chi2 test:   chi2=31.3962 , p=0.0017  , df=12\n",
      "likelihood ratio test: chi2=29.7353 , p=0.0031  , df=12\n",
      "parameter F test:         F=2.3794  , p=0.0064  , df_denom=251, df_num=12\n",
      "\n",
      "Granger Causality\n",
      "number of lags (no zero) 13\n",
      "ssr based F test:         F=2.9085  , p=0.0006  , df_denom=248, df_num=13\n",
      "ssr based chi2 test:   chi2=41.9265 , p=0.0001  , df=13\n",
      "likelihood ratio test: chi2=39.0222 , p=0.0002  , df=13\n",
      "parameter F test:         F=2.9085  , p=0.0006  , df_denom=248, df_num=13\n"
     ]
    }
   ],
   "source": [
    "gct = grangercausalitytests(df, 13, addconst=True, verbose=True)"
   ]
  },
  {
   "cell_type": "code",
   "execution_count": 23,
   "metadata": {},
   "outputs": [],
   "source": [
    "train_df=df[:-30]\n",
    "test_df=df[-30:]"
   ]
  },
  {
   "cell_type": "markdown",
   "metadata": {},
   "source": [
    "VAR Selection Criteria"
   ]
  },
  {
   "cell_type": "code",
   "execution_count": 24,
   "metadata": {},
   "outputs": [
    {
     "name": "stdout",
     "output_type": "stream",
     "text": [
      " VAR Order Selection (* highlights the minimums)  \n",
      "==================================================\n",
      "       AIC         BIC         FPE         HQIC   \n",
      "--------------------------------------------------\n",
      "0       -7.555      -7.525   0.0005237      -7.543\n",
      "1       -7.599      -7.511   0.0005010      -7.564\n",
      "2       -7.657      -7.511   0.0004727      -7.598\n",
      "3       -7.802      -7.597   0.0004091      -7.719\n",
      "4       -7.818      -7.554   0.0004026      -7.711\n",
      "5       -7.928     -7.606*   0.0003604     -7.799*\n",
      "6      -7.951*      -7.570  0.0003525*      -7.797\n",
      "7       -7.928      -7.489   0.0003605      -7.751\n",
      "8       -7.932      -7.434   0.0003594      -7.731\n",
      "9       -7.909      -7.353   0.0003675      -7.685\n",
      "10      -7.906      -7.291   0.0003689      -7.658\n",
      "11      -7.888      -7.215   0.0003758      -7.616\n",
      "12      -7.914      -7.182   0.0003661      -7.619\n",
      "13      -7.881      -7.091   0.0003786      -7.563\n",
      "14      -7.874      -7.026   0.0003813      -7.532\n",
      "15      -7.865      -6.958   0.0003850      -7.500\n",
      "16      -7.871      -6.905   0.0003832      -7.481\n",
      "17      -7.865      -6.841   0.0003857      -7.452\n",
      "18      -7.842      -6.759   0.0003948      -7.406\n",
      "19      -7.815      -6.674   0.0004059      -7.355\n",
      "20      -7.823      -6.623   0.0004033      -7.339\n",
      "--------------------------------------------------\n"
     ]
    },
    {
     "name": "stderr",
     "output_type": "stream",
     "text": [
      "/Users/federicovinci/opt/anaconda3/lib/python3.9/site-packages/statsmodels/tsa/base/tsa_model.py:524: ValueWarning: No frequency information was provided, so inferred frequency MS will be used.\n",
      "  warnings.warn('No frequency information was'\n"
     ]
    }
   ],
   "source": [
    "model = VAR(train_df.diff()[1:])\n",
    "sorted_order=model.select_order(maxlags=20)\n",
    "print(sorted_order.summary())"
   ]
  },
  {
   "cell_type": "markdown",
   "metadata": {},
   "source": [
    "Fitting the VAR model VAR(7,0)"
   ]
  },
  {
   "cell_type": "code",
   "execution_count": 25,
   "metadata": {},
   "outputs": [
    {
     "name": "stderr",
     "output_type": "stream",
     "text": [
      "/Users/federicovinci/opt/anaconda3/lib/python3.9/site-packages/statsmodels/tsa/base/tsa_model.py:524: ValueWarning: No frequency information was provided, so inferred frequency MS will be used.\n",
      "  warnings.warn('No frequency information was'\n"
     ]
    },
    {
     "name": "stdout",
     "output_type": "stream",
     "text": [
      "                           Statespace Model Results                           \n",
      "==============================================================================\n",
      "Dep. Variable:          ['wgt', 'ur']   No. Observations:                  258\n",
      "Model:                         VAR(7)   Log Likelihood                 318.980\n",
      "                          + intercept   AIC                           -571.960\n",
      "Date:                Thu, 14 Apr 2022   BIC                           -454.712\n",
      "Time:                        20:44:19   HQIC                          -524.814\n",
      "Sample:                    01-01-1998                                         \n",
      "                         - 06-01-2019                                         \n",
      "Covariance Type:                  opg                                         \n",
      "===================================================================================\n",
      "Ljung-Box (L1) (Q):             0.01, 0.00   Jarque-Bera (JB):           0.71, 3.84\n",
      "Prob(Q):                        0.93, 1.00   Prob(JB):                   0.70, 0.15\n",
      "Heteroskedasticity (H):         1.36, 1.17   Skew:                      -0.04, 0.04\n",
      "Prob(H) (two-sided):            0.15, 0.48   Kurtosis:                   2.76, 3.59\n",
      "                           Results for equation wgt                           \n",
      "==============================================================================\n",
      "                 coef    std err          z      P>|z|      [0.025      0.975]\n",
      "------------------------------------------------------------------------------\n",
      "intercept      0.2422      0.094      2.568      0.010       0.057       0.427\n",
      "L1.wgt         1.0534      0.068     15.591      0.000       0.921       1.186\n",
      "L1.ur         -0.0048      0.063     -0.076      0.940      -0.129       0.119\n",
      "L2.wgt         0.0266      0.097      0.273      0.784      -0.164       0.217\n",
      "L2.ur         -0.0218      0.090     -0.242      0.809      -0.199       0.155\n",
      "L3.wgt        -0.5867      0.098     -5.981      0.000      -0.779      -0.394\n",
      "L3.ur         -0.0601      0.093     -0.647      0.517      -0.242       0.122\n",
      "L4.wgt         0.4957      0.101      4.898      0.000       0.297       0.694\n",
      "L4.ur         -0.0268      0.092     -0.290      0.771      -0.208       0.154\n",
      "L5.wgt         0.1683      0.108      1.552      0.121      -0.044       0.381\n",
      "L5.ur          0.0190      0.084      0.225      0.822      -0.146       0.184\n",
      "L6.wgt        -0.3124      0.106     -2.954      0.003      -0.520      -0.105\n",
      "L6.ur         -0.0270      0.083     -0.326      0.745      -0.190       0.136\n",
      "L7.wgt         0.1215      0.065      1.862      0.063      -0.006       0.249\n",
      "L7.ur          0.1000      0.061      1.641      0.101      -0.019       0.219\n",
      "                           Results for equation ur                            \n",
      "==============================================================================\n",
      "                 coef    std err          z      P>|z|      [0.025      0.975]\n",
      "------------------------------------------------------------------------------\n",
      "intercept     -0.0506      0.135     -0.375      0.708      -0.315       0.214\n",
      "L1.wgt         0.1106      0.094      1.180      0.238      -0.073       0.294\n",
      "L1.ur          0.9674      0.054     17.768      0.000       0.861       1.074\n",
      "L2.wgt        -0.0367      0.123     -0.297      0.766      -0.279       0.205\n",
      "L2.ur          0.1916      0.087      2.213      0.027       0.022       0.361\n",
      "L3.wgt        -0.0701      0.108     -0.646      0.518      -0.283       0.142\n",
      "L3.ur         -0.0695      0.104     -0.666      0.505      -0.274       0.135\n",
      "L4.wgt         0.0690      0.116      0.594      0.553      -0.159       0.297\n",
      "L4.ur          0.0102      0.100      0.102      0.919      -0.185       0.205\n",
      "L5.wgt        -0.0431      0.118     -0.365      0.715      -0.275       0.188\n",
      "L5.ur          0.1381      0.092      1.495      0.135      -0.043       0.319\n",
      "L6.wgt        -0.1448      0.112     -1.288      0.198      -0.365       0.075\n",
      "L6.ur         -0.1038      0.096     -1.077      0.282      -0.293       0.085\n",
      "L7.wgt         0.1305      0.081      1.603      0.109      -0.029       0.290\n",
      "L7.ur         -0.1356      0.064     -2.109      0.035      -0.262      -0.010\n",
      "                              Error covariance matrix                              \n",
      "===================================================================================\n",
      "                      coef    std err          z      P>|z|      [0.025      0.975]\n",
      "-----------------------------------------------------------------------------------\n",
      "sqrt.var.wgt        0.1219      0.006     19.174      0.000       0.109       0.134\n",
      "sqrt.cov.wgt.ur     0.0041      0.009      0.449      0.654      -0.014       0.022\n",
      "sqrt.var.ur         0.1369      0.006     23.411      0.000       0.125       0.148\n",
      "===================================================================================\n",
      "\n",
      "Warnings:\n",
      "[1] Covariance matrix calculated using the outer product of gradients (complex-step).\n"
     ]
    },
    {
     "name": "stderr",
     "output_type": "stream",
     "text": [
      "/Users/federicovinci/opt/anaconda3/lib/python3.9/site-packages/statsmodels/base/model.py:566: ConvergenceWarning: Maximum Likelihood optimization failed to converge. Check mle_retvals\n",
      "  warnings.warn(\"Maximum Likelihood optimization failed to \"\n"
     ]
    }
   ],
   "source": [
    "var_model = VARMAX(train_df, order=(7,0), enforce_stationarity= True)\n",
    "fitted_model = var_model.fit(disp=False)\n",
    "print(fitted_model.summary())"
   ]
  },
  {
   "cell_type": "markdown",
   "metadata": {},
   "source": [
    "Forecasting"
   ]
  },
  {
   "cell_type": "code",
   "execution_count": 27,
   "metadata": {},
   "outputs": [
    {
     "data": {
      "text/html": [
       "<div>\n",
       "<style scoped>\n",
       "    .dataframe tbody tr th:only-of-type {\n",
       "        vertical-align: middle;\n",
       "    }\n",
       "\n",
       "    .dataframe tbody tr th {\n",
       "        vertical-align: top;\n",
       "    }\n",
       "\n",
       "    .dataframe thead th {\n",
       "        text-align: right;\n",
       "    }\n",
       "</style>\n",
       "<table border=\"1\" class=\"dataframe\">\n",
       "  <thead>\n",
       "    <tr style=\"text-align: right;\">\n",
       "      <th></th>\n",
       "      <th>wgt_firstdiff</th>\n",
       "      <th>ur</th>\n",
       "    </tr>\n",
       "  </thead>\n",
       "  <tbody>\n",
       "    <tr>\n",
       "      <th>2022-01-01</th>\n",
       "      <td>4.413281</td>\n",
       "      <td>3.882390</td>\n",
       "    </tr>\n",
       "    <tr>\n",
       "      <th>2022-02-01</th>\n",
       "      <td>4.414103</td>\n",
       "      <td>3.910739</td>\n",
       "    </tr>\n",
       "    <tr>\n",
       "      <th>2022-03-01</th>\n",
       "      <td>4.414015</td>\n",
       "      <td>3.939441</td>\n",
       "    </tr>\n",
       "    <tr>\n",
       "      <th>2022-04-01</th>\n",
       "      <td>4.413394</td>\n",
       "      <td>3.968505</td>\n",
       "    </tr>\n",
       "    <tr>\n",
       "      <th>2022-05-01</th>\n",
       "      <td>4.412126</td>\n",
       "      <td>3.997722</td>\n",
       "    </tr>\n",
       "    <tr>\n",
       "      <th>2022-06-01</th>\n",
       "      <td>4.410386</td>\n",
       "      <td>4.027101</td>\n",
       "    </tr>\n",
       "    <tr>\n",
       "      <th>2022-07-01</th>\n",
       "      <td>4.407995</td>\n",
       "      <td>4.056609</td>\n",
       "    </tr>\n",
       "    <tr>\n",
       "      <th>2022-08-01</th>\n",
       "      <td>4.405033</td>\n",
       "      <td>4.086232</td>\n",
       "    </tr>\n",
       "    <tr>\n",
       "      <th>2022-09-01</th>\n",
       "      <td>4.401538</td>\n",
       "      <td>4.115928</td>\n",
       "    </tr>\n",
       "    <tr>\n",
       "      <th>2022-10-01</th>\n",
       "      <td>4.397576</td>\n",
       "      <td>4.145606</td>\n",
       "    </tr>\n",
       "  </tbody>\n",
       "</table>\n",
       "</div>"
      ],
      "text/plain": [
       "            wgt_firstdiff        ur\n",
       "2022-01-01       4.413281  3.882390\n",
       "2022-02-01       4.414103  3.910739\n",
       "2022-03-01       4.414015  3.939441\n",
       "2022-04-01       4.413394  3.968505\n",
       "2022-05-01       4.412126  3.997722\n",
       "2022-06-01       4.410386  4.027101\n",
       "2022-07-01       4.407995  4.056609\n",
       "2022-08-01       4.405033  4.086232\n",
       "2022-09-01       4.401538  4.115928\n",
       "2022-10-01       4.397576  4.145606"
      ]
     },
     "execution_count": 27,
     "metadata": {},
     "output_type": "execute_result"
    }
   ],
   "source": [
    "n_forecast = 40\n",
    "predict = fitted_model.get_prediction(start=len(train_df),end=len(train_df) + n_forecast-1)\n",
    "\n",
    "predictions=predict.predicted_mean\n",
    "predictions.columns=['wgt_firstdiff','ur']\n",
    "predictions[30:]"
   ]
  }
 ],
 "metadata": {
  "interpreter": {
   "hash": "7a22b6dd079c8bac3d2c822ed3e221fb5a50a77224d88c71f0e748c92cfc1abb"
  },
  "kernelspec": {
   "display_name": "Python 3.9.7 ('base')",
   "language": "python",
   "name": "python3"
  },
  "language_info": {
   "codemirror_mode": {
    "name": "ipython",
    "version": 3
   },
   "file_extension": ".py",
   "mimetype": "text/x-python",
   "name": "python",
   "nbconvert_exporter": "python",
   "pygments_lexer": "ipython3",
   "version": "3.9.7"
  },
  "orig_nbformat": 4
 },
 "nbformat": 4,
 "nbformat_minor": 2
}
